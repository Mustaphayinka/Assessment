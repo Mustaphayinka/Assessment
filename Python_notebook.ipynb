{
 "cells": [
  {
   "cell_type": "code",
   "execution_count": 1,
   "metadata": {
    "colab": {
     "base_uri": "https://localhost:8080/"
    },
    "id": "EZXhR3K21IIj",
    "outputId": "13cbdfeb-faef-4140-866e-f3c4f8ffa2a6"
   },
   "outputs": [
    {
     "name": "stdout",
     "output_type": "stream",
     "text": [
      "Mounted at /content/gdrive\n"
     ]
    }
   ],
   "source": [
    "from google.colab import drive\n",
    "\n",
    "drive.mount('/content/gdrive')"
   ]
  },
  {
   "cell_type": "code",
   "execution_count": 5,
   "metadata": {
    "id": "ZZKyqv6-1JHw"
   },
   "outputs": [],
   "source": [
    "# Import libraries\n",
    "import pandas as pd\n",
    "import numpy as np\n",
    "import matplotlib.pyplot as plt\n",
    "import seaborn as sns\n",
    "from scipy import stats\n",
    "\n",
    "from sklearn.linear_model import LinearRegression\n",
    "from sklearn.model_selection import train_test_split\n",
    "from sklearn.metrics import mean_squared_error, mean_absolute_error, r2_score\n"
   ]
  },
  {
   "cell_type": "code",
   "execution_count": 6,
   "metadata": {
    "id": "qSKbEaZE3Irc"
   },
   "outputs": [],
   "source": [
    "# Import the data\n",
    "data = pd.read_csv(\"/content/gdrive/MyDrive/latest_numerai_training_data.csv.xz\")"
   ]
  },
  {
   "cell_type": "code",
   "execution_count": 7,
   "metadata": {
    "colab": {
     "base_uri": "https://localhost:8080/",
     "height": 300
    },
    "id": "8z_A6JF43Mzg",
    "outputId": "f24929c4-663e-45d5-a51e-bd33c8629634"
   },
   "outputs": [
    {
     "data": {
      "text/html": [
       "\n",
       "  <div id=\"df-c50814f5-b75e-4549-8d55-a16c0b82dbe5\">\n",
       "    <div class=\"colab-df-container\">\n",
       "      <div>\n",
       "<style scoped>\n",
       "    .dataframe tbody tr th:only-of-type {\n",
       "        vertical-align: middle;\n",
       "    }\n",
       "\n",
       "    .dataframe tbody tr th {\n",
       "        vertical-align: top;\n",
       "    }\n",
       "\n",
       "    .dataframe thead th {\n",
       "        text-align: right;\n",
       "    }\n",
       "</style>\n",
       "<table border=\"1\" class=\"dataframe\">\n",
       "  <thead>\n",
       "    <tr style=\"text-align: right;\">\n",
       "      <th></th>\n",
       "      <th>id</th>\n",
       "      <th>era</th>\n",
       "      <th>data_type</th>\n",
       "      <th>feature_intelligence1</th>\n",
       "      <th>feature_intelligence2</th>\n",
       "      <th>feature_intelligence3</th>\n",
       "      <th>feature_intelligence4</th>\n",
       "      <th>feature_intelligence5</th>\n",
       "      <th>feature_intelligence6</th>\n",
       "      <th>feature_intelligence7</th>\n",
       "      <th>...</th>\n",
       "      <th>feature_wisdom38</th>\n",
       "      <th>feature_wisdom39</th>\n",
       "      <th>feature_wisdom40</th>\n",
       "      <th>feature_wisdom41</th>\n",
       "      <th>feature_wisdom42</th>\n",
       "      <th>feature_wisdom43</th>\n",
       "      <th>feature_wisdom44</th>\n",
       "      <th>feature_wisdom45</th>\n",
       "      <th>feature_wisdom46</th>\n",
       "      <th>target</th>\n",
       "    </tr>\n",
       "  </thead>\n",
       "  <tbody>\n",
       "    <tr>\n",
       "      <th>0</th>\n",
       "      <td>n000315175b67977</td>\n",
       "      <td>era1</td>\n",
       "      <td>train</td>\n",
       "      <td>0.00</td>\n",
       "      <td>0.50</td>\n",
       "      <td>0.25</td>\n",
       "      <td>0.00</td>\n",
       "      <td>0.5</td>\n",
       "      <td>0.25</td>\n",
       "      <td>0.25</td>\n",
       "      <td>...</td>\n",
       "      <td>1.00</td>\n",
       "      <td>1.00</td>\n",
       "      <td>0.75</td>\n",
       "      <td>0.50</td>\n",
       "      <td>0.75</td>\n",
       "      <td>0.50</td>\n",
       "      <td>1.00</td>\n",
       "      <td>0.50</td>\n",
       "      <td>0.75</td>\n",
       "      <td>0.50</td>\n",
       "    </tr>\n",
       "    <tr>\n",
       "      <th>1</th>\n",
       "      <td>n0014af834a96cdd</td>\n",
       "      <td>era1</td>\n",
       "      <td>train</td>\n",
       "      <td>0.00</td>\n",
       "      <td>0.00</td>\n",
       "      <td>0.00</td>\n",
       "      <td>0.25</td>\n",
       "      <td>0.5</td>\n",
       "      <td>0.00</td>\n",
       "      <td>0.00</td>\n",
       "      <td>...</td>\n",
       "      <td>1.00</td>\n",
       "      <td>1.00</td>\n",
       "      <td>0.00</td>\n",
       "      <td>0.00</td>\n",
       "      <td>0.75</td>\n",
       "      <td>0.25</td>\n",
       "      <td>0.00</td>\n",
       "      <td>0.25</td>\n",
       "      <td>1.00</td>\n",
       "      <td>0.25</td>\n",
       "    </tr>\n",
       "    <tr>\n",
       "      <th>2</th>\n",
       "      <td>n001c93979ac41d4</td>\n",
       "      <td>era1</td>\n",
       "      <td>train</td>\n",
       "      <td>0.25</td>\n",
       "      <td>0.50</td>\n",
       "      <td>0.25</td>\n",
       "      <td>0.25</td>\n",
       "      <td>1.0</td>\n",
       "      <td>0.75</td>\n",
       "      <td>0.75</td>\n",
       "      <td>...</td>\n",
       "      <td>0.25</td>\n",
       "      <td>0.50</td>\n",
       "      <td>0.00</td>\n",
       "      <td>0.00</td>\n",
       "      <td>0.50</td>\n",
       "      <td>1.00</td>\n",
       "      <td>0.00</td>\n",
       "      <td>0.25</td>\n",
       "      <td>0.75</td>\n",
       "      <td>0.25</td>\n",
       "    </tr>\n",
       "    <tr>\n",
       "      <th>3</th>\n",
       "      <td>n0034e4143f22a13</td>\n",
       "      <td>era1</td>\n",
       "      <td>train</td>\n",
       "      <td>1.00</td>\n",
       "      <td>0.00</td>\n",
       "      <td>0.00</td>\n",
       "      <td>0.50</td>\n",
       "      <td>0.5</td>\n",
       "      <td>0.25</td>\n",
       "      <td>0.25</td>\n",
       "      <td>...</td>\n",
       "      <td>1.00</td>\n",
       "      <td>1.00</td>\n",
       "      <td>0.75</td>\n",
       "      <td>0.75</td>\n",
       "      <td>1.00</td>\n",
       "      <td>1.00</td>\n",
       "      <td>0.75</td>\n",
       "      <td>1.00</td>\n",
       "      <td>1.00</td>\n",
       "      <td>0.25</td>\n",
       "    </tr>\n",
       "    <tr>\n",
       "      <th>4</th>\n",
       "      <td>n00679d1a636062f</td>\n",
       "      <td>era1</td>\n",
       "      <td>train</td>\n",
       "      <td>0.25</td>\n",
       "      <td>0.25</td>\n",
       "      <td>0.25</td>\n",
       "      <td>0.25</td>\n",
       "      <td>0.0</td>\n",
       "      <td>0.25</td>\n",
       "      <td>0.50</td>\n",
       "      <td>...</td>\n",
       "      <td>0.75</td>\n",
       "      <td>0.75</td>\n",
       "      <td>0.25</td>\n",
       "      <td>0.50</td>\n",
       "      <td>0.75</td>\n",
       "      <td>0.00</td>\n",
       "      <td>0.50</td>\n",
       "      <td>0.25</td>\n",
       "      <td>0.75</td>\n",
       "      <td>0.75</td>\n",
       "    </tr>\n",
       "  </tbody>\n",
       "</table>\n",
       "<p>5 rows × 314 columns</p>\n",
       "</div>\n",
       "      <button class=\"colab-df-convert\" onclick=\"convertToInteractive('df-c50814f5-b75e-4549-8d55-a16c0b82dbe5')\"\n",
       "              title=\"Convert this dataframe to an interactive table.\"\n",
       "              style=\"display:none;\">\n",
       "        \n",
       "  <svg xmlns=\"http://www.w3.org/2000/svg\" height=\"24px\"viewBox=\"0 0 24 24\"\n",
       "       width=\"24px\">\n",
       "    <path d=\"M0 0h24v24H0V0z\" fill=\"none\"/>\n",
       "    <path d=\"M18.56 5.44l.94 2.06.94-2.06 2.06-.94-2.06-.94-.94-2.06-.94 2.06-2.06.94zm-11 1L8.5 8.5l.94-2.06 2.06-.94-2.06-.94L8.5 2.5l-.94 2.06-2.06.94zm10 10l.94 2.06.94-2.06 2.06-.94-2.06-.94-.94-2.06-.94 2.06-2.06.94z\"/><path d=\"M17.41 7.96l-1.37-1.37c-.4-.4-.92-.59-1.43-.59-.52 0-1.04.2-1.43.59L10.3 9.45l-7.72 7.72c-.78.78-.78 2.05 0 2.83L4 21.41c.39.39.9.59 1.41.59.51 0 1.02-.2 1.41-.59l7.78-7.78 2.81-2.81c.8-.78.8-2.07 0-2.86zM5.41 20L4 18.59l7.72-7.72 1.47 1.35L5.41 20z\"/>\n",
       "  </svg>\n",
       "      </button>\n",
       "      \n",
       "  <style>\n",
       "    .colab-df-container {\n",
       "      display:flex;\n",
       "      flex-wrap:wrap;\n",
       "      gap: 12px;\n",
       "    }\n",
       "\n",
       "    .colab-df-convert {\n",
       "      background-color: #E8F0FE;\n",
       "      border: none;\n",
       "      border-radius: 50%;\n",
       "      cursor: pointer;\n",
       "      display: none;\n",
       "      fill: #1967D2;\n",
       "      height: 32px;\n",
       "      padding: 0 0 0 0;\n",
       "      width: 32px;\n",
       "    }\n",
       "\n",
       "    .colab-df-convert:hover {\n",
       "      background-color: #E2EBFA;\n",
       "      box-shadow: 0px 1px 2px rgba(60, 64, 67, 0.3), 0px 1px 3px 1px rgba(60, 64, 67, 0.15);\n",
       "      fill: #174EA6;\n",
       "    }\n",
       "\n",
       "    [theme=dark] .colab-df-convert {\n",
       "      background-color: #3B4455;\n",
       "      fill: #D2E3FC;\n",
       "    }\n",
       "\n",
       "    [theme=dark] .colab-df-convert:hover {\n",
       "      background-color: #434B5C;\n",
       "      box-shadow: 0px 1px 3px 1px rgba(0, 0, 0, 0.15);\n",
       "      filter: drop-shadow(0px 1px 2px rgba(0, 0, 0, 0.3));\n",
       "      fill: #FFFFFF;\n",
       "    }\n",
       "  </style>\n",
       "\n",
       "      <script>\n",
       "        const buttonEl =\n",
       "          document.querySelector('#df-c50814f5-b75e-4549-8d55-a16c0b82dbe5 button.colab-df-convert');\n",
       "        buttonEl.style.display =\n",
       "          google.colab.kernel.accessAllowed ? 'block' : 'none';\n",
       "\n",
       "        async function convertToInteractive(key) {\n",
       "          const element = document.querySelector('#df-c50814f5-b75e-4549-8d55-a16c0b82dbe5');\n",
       "          const dataTable =\n",
       "            await google.colab.kernel.invokeFunction('convertToInteractive',\n",
       "                                                     [key], {});\n",
       "          if (!dataTable) return;\n",
       "\n",
       "          const docLinkHtml = 'Like what you see? Visit the ' +\n",
       "            '<a target=\"_blank\" href=https://colab.research.google.com/notebooks/data_table.ipynb>data table notebook</a>'\n",
       "            + ' to learn more about interactive tables.';\n",
       "          element.innerHTML = '';\n",
       "          dataTable['output_type'] = 'display_data';\n",
       "          await google.colab.output.renderOutput(dataTable, element);\n",
       "          const docLink = document.createElement('div');\n",
       "          docLink.innerHTML = docLinkHtml;\n",
       "          element.appendChild(docLink);\n",
       "        }\n",
       "      </script>\n",
       "    </div>\n",
       "  </div>\n",
       "  "
      ],
      "text/plain": [
       "                 id   era data_type  feature_intelligence1  \\\n",
       "0  n000315175b67977  era1     train                   0.00   \n",
       "1  n0014af834a96cdd  era1     train                   0.00   \n",
       "2  n001c93979ac41d4  era1     train                   0.25   \n",
       "3  n0034e4143f22a13  era1     train                   1.00   \n",
       "4  n00679d1a636062f  era1     train                   0.25   \n",
       "\n",
       "   feature_intelligence2  feature_intelligence3  feature_intelligence4  \\\n",
       "0                   0.50                   0.25                   0.00   \n",
       "1                   0.00                   0.00                   0.25   \n",
       "2                   0.50                   0.25                   0.25   \n",
       "3                   0.00                   0.00                   0.50   \n",
       "4                   0.25                   0.25                   0.25   \n",
       "\n",
       "   feature_intelligence5  feature_intelligence6  feature_intelligence7  ...  \\\n",
       "0                    0.5                   0.25                   0.25  ...   \n",
       "1                    0.5                   0.00                   0.00  ...   \n",
       "2                    1.0                   0.75                   0.75  ...   \n",
       "3                    0.5                   0.25                   0.25  ...   \n",
       "4                    0.0                   0.25                   0.50  ...   \n",
       "\n",
       "   feature_wisdom38  feature_wisdom39  feature_wisdom40  feature_wisdom41  \\\n",
       "0              1.00              1.00              0.75              0.50   \n",
       "1              1.00              1.00              0.00              0.00   \n",
       "2              0.25              0.50              0.00              0.00   \n",
       "3              1.00              1.00              0.75              0.75   \n",
       "4              0.75              0.75              0.25              0.50   \n",
       "\n",
       "   feature_wisdom42  feature_wisdom43  feature_wisdom44  feature_wisdom45  \\\n",
       "0              0.75              0.50              1.00              0.50   \n",
       "1              0.75              0.25              0.00              0.25   \n",
       "2              0.50              1.00              0.00              0.25   \n",
       "3              1.00              1.00              0.75              1.00   \n",
       "4              0.75              0.00              0.50              0.25   \n",
       "\n",
       "   feature_wisdom46  target  \n",
       "0              0.75    0.50  \n",
       "1              1.00    0.25  \n",
       "2              0.75    0.25  \n",
       "3              1.00    0.25  \n",
       "4              0.75    0.75  \n",
       "\n",
       "[5 rows x 314 columns]"
      ]
     },
     "execution_count": 7,
     "metadata": {},
     "output_type": "execute_result"
    }
   ],
   "source": [
    "data.head()"
   ]
  },
  {
   "cell_type": "code",
   "execution_count": 8,
   "metadata": {
    "colab": {
     "base_uri": "https://localhost:8080/"
    },
    "id": "8q9Mgh-RCbxg",
    "outputId": "71ab08a3-3125-49b3-9838-0487b724898e"
   },
   "outputs": [
    {
     "data": {
      "text/plain": [
       "(501808, 314)"
      ]
     },
     "execution_count": 8,
     "metadata": {},
     "output_type": "execute_result"
    }
   ],
   "source": [
    "# Shape of the data\n",
    "data.shape"
   ]
  },
  {
   "cell_type": "code",
   "execution_count": 9,
   "metadata": {
    "colab": {
     "base_uri": "https://localhost:8080/",
     "height": 394
    },
    "id": "Y7ZjJTCo3cD3",
    "outputId": "278db459-3ac5-4768-a4f1-a64238fcd4d9"
   },
   "outputs": [
    {
     "data": {
      "text/html": [
       "\n",
       "  <div id=\"df-378bca91-a2df-4183-b3cd-0c2292ed4fe1\">\n",
       "    <div class=\"colab-df-container\">\n",
       "      <div>\n",
       "<style scoped>\n",
       "    .dataframe tbody tr th:only-of-type {\n",
       "        vertical-align: middle;\n",
       "    }\n",
       "\n",
       "    .dataframe tbody tr th {\n",
       "        vertical-align: top;\n",
       "    }\n",
       "\n",
       "    .dataframe thead th {\n",
       "        text-align: right;\n",
       "    }\n",
       "</style>\n",
       "<table border=\"1\" class=\"dataframe\">\n",
       "  <thead>\n",
       "    <tr style=\"text-align: right;\">\n",
       "      <th></th>\n",
       "      <th>feature_intelligence1</th>\n",
       "      <th>feature_intelligence2</th>\n",
       "      <th>feature_intelligence3</th>\n",
       "      <th>feature_intelligence4</th>\n",
       "      <th>feature_intelligence5</th>\n",
       "      <th>feature_intelligence6</th>\n",
       "      <th>feature_intelligence7</th>\n",
       "      <th>feature_intelligence8</th>\n",
       "      <th>feature_intelligence9</th>\n",
       "      <th>feature_intelligence10</th>\n",
       "      <th>...</th>\n",
       "      <th>feature_wisdom38</th>\n",
       "      <th>feature_wisdom39</th>\n",
       "      <th>feature_wisdom40</th>\n",
       "      <th>feature_wisdom41</th>\n",
       "      <th>feature_wisdom42</th>\n",
       "      <th>feature_wisdom43</th>\n",
       "      <th>feature_wisdom44</th>\n",
       "      <th>feature_wisdom45</th>\n",
       "      <th>feature_wisdom46</th>\n",
       "      <th>target</th>\n",
       "    </tr>\n",
       "  </thead>\n",
       "  <tbody>\n",
       "    <tr>\n",
       "      <th>count</th>\n",
       "      <td>501808.000000</td>\n",
       "      <td>501808.000000</td>\n",
       "      <td>501808.000000</td>\n",
       "      <td>501808.000000</td>\n",
       "      <td>501808.000000</td>\n",
       "      <td>501808.000000</td>\n",
       "      <td>501808.000000</td>\n",
       "      <td>501808.000000</td>\n",
       "      <td>501808.000000</td>\n",
       "      <td>501808.000000</td>\n",
       "      <td>...</td>\n",
       "      <td>501808.000000</td>\n",
       "      <td>501808.000000</td>\n",
       "      <td>501808.000000</td>\n",
       "      <td>501808.000000</td>\n",
       "      <td>501808.000000</td>\n",
       "      <td>501808.000000</td>\n",
       "      <td>501808.000000</td>\n",
       "      <td>501808.000000</td>\n",
       "      <td>501808.000000</td>\n",
       "      <td>501808.000000</td>\n",
       "    </tr>\n",
       "    <tr>\n",
       "      <th>mean</th>\n",
       "      <td>0.499981</td>\n",
       "      <td>0.499979</td>\n",
       "      <td>0.499979</td>\n",
       "      <td>0.499981</td>\n",
       "      <td>0.499977</td>\n",
       "      <td>0.499977</td>\n",
       "      <td>0.499977</td>\n",
       "      <td>0.499981</td>\n",
       "      <td>0.499980</td>\n",
       "      <td>0.499980</td>\n",
       "      <td>...</td>\n",
       "      <td>0.499982</td>\n",
       "      <td>0.499982</td>\n",
       "      <td>0.499974</td>\n",
       "      <td>0.499980</td>\n",
       "      <td>0.499982</td>\n",
       "      <td>0.499980</td>\n",
       "      <td>0.499974</td>\n",
       "      <td>0.499979</td>\n",
       "      <td>0.499971</td>\n",
       "      <td>0.499997</td>\n",
       "    </tr>\n",
       "    <tr>\n",
       "      <th>std</th>\n",
       "      <td>0.353596</td>\n",
       "      <td>0.353593</td>\n",
       "      <td>0.353593</td>\n",
       "      <td>0.353596</td>\n",
       "      <td>0.353587</td>\n",
       "      <td>0.353587</td>\n",
       "      <td>0.353587</td>\n",
       "      <td>0.353596</td>\n",
       "      <td>0.352099</td>\n",
       "      <td>0.352099</td>\n",
       "      <td>...</td>\n",
       "      <td>0.353139</td>\n",
       "      <td>0.353139</td>\n",
       "      <td>0.351328</td>\n",
       "      <td>0.350662</td>\n",
       "      <td>0.352151</td>\n",
       "      <td>0.352965</td>\n",
       "      <td>0.351328</td>\n",
       "      <td>0.347689</td>\n",
       "      <td>0.353419</td>\n",
       "      <td>0.223268</td>\n",
       "    </tr>\n",
       "    <tr>\n",
       "      <th>min</th>\n",
       "      <td>0.000000</td>\n",
       "      <td>0.000000</td>\n",
       "      <td>0.000000</td>\n",
       "      <td>0.000000</td>\n",
       "      <td>0.000000</td>\n",
       "      <td>0.000000</td>\n",
       "      <td>0.000000</td>\n",
       "      <td>0.000000</td>\n",
       "      <td>0.000000</td>\n",
       "      <td>0.000000</td>\n",
       "      <td>...</td>\n",
       "      <td>0.000000</td>\n",
       "      <td>0.000000</td>\n",
       "      <td>0.000000</td>\n",
       "      <td>0.000000</td>\n",
       "      <td>0.000000</td>\n",
       "      <td>0.000000</td>\n",
       "      <td>0.000000</td>\n",
       "      <td>0.000000</td>\n",
       "      <td>0.000000</td>\n",
       "      <td>0.000000</td>\n",
       "    </tr>\n",
       "    <tr>\n",
       "      <th>25%</th>\n",
       "      <td>0.250000</td>\n",
       "      <td>0.250000</td>\n",
       "      <td>0.250000</td>\n",
       "      <td>0.250000</td>\n",
       "      <td>0.250000</td>\n",
       "      <td>0.250000</td>\n",
       "      <td>0.250000</td>\n",
       "      <td>0.250000</td>\n",
       "      <td>0.250000</td>\n",
       "      <td>0.250000</td>\n",
       "      <td>...</td>\n",
       "      <td>0.250000</td>\n",
       "      <td>0.250000</td>\n",
       "      <td>0.250000</td>\n",
       "      <td>0.250000</td>\n",
       "      <td>0.250000</td>\n",
       "      <td>0.250000</td>\n",
       "      <td>0.250000</td>\n",
       "      <td>0.250000</td>\n",
       "      <td>0.250000</td>\n",
       "      <td>0.500000</td>\n",
       "    </tr>\n",
       "    <tr>\n",
       "      <th>50%</th>\n",
       "      <td>0.500000</td>\n",
       "      <td>0.500000</td>\n",
       "      <td>0.500000</td>\n",
       "      <td>0.500000</td>\n",
       "      <td>0.500000</td>\n",
       "      <td>0.500000</td>\n",
       "      <td>0.500000</td>\n",
       "      <td>0.500000</td>\n",
       "      <td>0.500000</td>\n",
       "      <td>0.500000</td>\n",
       "      <td>...</td>\n",
       "      <td>0.500000</td>\n",
       "      <td>0.500000</td>\n",
       "      <td>0.500000</td>\n",
       "      <td>0.500000</td>\n",
       "      <td>0.500000</td>\n",
       "      <td>0.500000</td>\n",
       "      <td>0.500000</td>\n",
       "      <td>0.500000</td>\n",
       "      <td>0.500000</td>\n",
       "      <td>0.500000</td>\n",
       "    </tr>\n",
       "    <tr>\n",
       "      <th>75%</th>\n",
       "      <td>0.750000</td>\n",
       "      <td>0.750000</td>\n",
       "      <td>0.750000</td>\n",
       "      <td>0.750000</td>\n",
       "      <td>0.750000</td>\n",
       "      <td>0.750000</td>\n",
       "      <td>0.750000</td>\n",
       "      <td>0.750000</td>\n",
       "      <td>0.750000</td>\n",
       "      <td>0.750000</td>\n",
       "      <td>...</td>\n",
       "      <td>0.750000</td>\n",
       "      <td>0.750000</td>\n",
       "      <td>0.750000</td>\n",
       "      <td>0.750000</td>\n",
       "      <td>0.750000</td>\n",
       "      <td>0.750000</td>\n",
       "      <td>0.750000</td>\n",
       "      <td>0.750000</td>\n",
       "      <td>0.750000</td>\n",
       "      <td>0.500000</td>\n",
       "    </tr>\n",
       "    <tr>\n",
       "      <th>max</th>\n",
       "      <td>1.000000</td>\n",
       "      <td>1.000000</td>\n",
       "      <td>1.000000</td>\n",
       "      <td>1.000000</td>\n",
       "      <td>1.000000</td>\n",
       "      <td>1.000000</td>\n",
       "      <td>1.000000</td>\n",
       "      <td>1.000000</td>\n",
       "      <td>1.000000</td>\n",
       "      <td>1.000000</td>\n",
       "      <td>...</td>\n",
       "      <td>1.000000</td>\n",
       "      <td>1.000000</td>\n",
       "      <td>1.000000</td>\n",
       "      <td>1.000000</td>\n",
       "      <td>1.000000</td>\n",
       "      <td>1.000000</td>\n",
       "      <td>1.000000</td>\n",
       "      <td>1.000000</td>\n",
       "      <td>1.000000</td>\n",
       "      <td>1.000000</td>\n",
       "    </tr>\n",
       "  </tbody>\n",
       "</table>\n",
       "<p>8 rows × 311 columns</p>\n",
       "</div>\n",
       "      <button class=\"colab-df-convert\" onclick=\"convertToInteractive('df-378bca91-a2df-4183-b3cd-0c2292ed4fe1')\"\n",
       "              title=\"Convert this dataframe to an interactive table.\"\n",
       "              style=\"display:none;\">\n",
       "        \n",
       "  <svg xmlns=\"http://www.w3.org/2000/svg\" height=\"24px\"viewBox=\"0 0 24 24\"\n",
       "       width=\"24px\">\n",
       "    <path d=\"M0 0h24v24H0V0z\" fill=\"none\"/>\n",
       "    <path d=\"M18.56 5.44l.94 2.06.94-2.06 2.06-.94-2.06-.94-.94-2.06-.94 2.06-2.06.94zm-11 1L8.5 8.5l.94-2.06 2.06-.94-2.06-.94L8.5 2.5l-.94 2.06-2.06.94zm10 10l.94 2.06.94-2.06 2.06-.94-2.06-.94-.94-2.06-.94 2.06-2.06.94z\"/><path d=\"M17.41 7.96l-1.37-1.37c-.4-.4-.92-.59-1.43-.59-.52 0-1.04.2-1.43.59L10.3 9.45l-7.72 7.72c-.78.78-.78 2.05 0 2.83L4 21.41c.39.39.9.59 1.41.59.51 0 1.02-.2 1.41-.59l7.78-7.78 2.81-2.81c.8-.78.8-2.07 0-2.86zM5.41 20L4 18.59l7.72-7.72 1.47 1.35L5.41 20z\"/>\n",
       "  </svg>\n",
       "      </button>\n",
       "      \n",
       "  <style>\n",
       "    .colab-df-container {\n",
       "      display:flex;\n",
       "      flex-wrap:wrap;\n",
       "      gap: 12px;\n",
       "    }\n",
       "\n",
       "    .colab-df-convert {\n",
       "      background-color: #E8F0FE;\n",
       "      border: none;\n",
       "      border-radius: 50%;\n",
       "      cursor: pointer;\n",
       "      display: none;\n",
       "      fill: #1967D2;\n",
       "      height: 32px;\n",
       "      padding: 0 0 0 0;\n",
       "      width: 32px;\n",
       "    }\n",
       "\n",
       "    .colab-df-convert:hover {\n",
       "      background-color: #E2EBFA;\n",
       "      box-shadow: 0px 1px 2px rgba(60, 64, 67, 0.3), 0px 1px 3px 1px rgba(60, 64, 67, 0.15);\n",
       "      fill: #174EA6;\n",
       "    }\n",
       "\n",
       "    [theme=dark] .colab-df-convert {\n",
       "      background-color: #3B4455;\n",
       "      fill: #D2E3FC;\n",
       "    }\n",
       "\n",
       "    [theme=dark] .colab-df-convert:hover {\n",
       "      background-color: #434B5C;\n",
       "      box-shadow: 0px 1px 3px 1px rgba(0, 0, 0, 0.15);\n",
       "      filter: drop-shadow(0px 1px 2px rgba(0, 0, 0, 0.3));\n",
       "      fill: #FFFFFF;\n",
       "    }\n",
       "  </style>\n",
       "\n",
       "      <script>\n",
       "        const buttonEl =\n",
       "          document.querySelector('#df-378bca91-a2df-4183-b3cd-0c2292ed4fe1 button.colab-df-convert');\n",
       "        buttonEl.style.display =\n",
       "          google.colab.kernel.accessAllowed ? 'block' : 'none';\n",
       "\n",
       "        async function convertToInteractive(key) {\n",
       "          const element = document.querySelector('#df-378bca91-a2df-4183-b3cd-0c2292ed4fe1');\n",
       "          const dataTable =\n",
       "            await google.colab.kernel.invokeFunction('convertToInteractive',\n",
       "                                                     [key], {});\n",
       "          if (!dataTable) return;\n",
       "\n",
       "          const docLinkHtml = 'Like what you see? Visit the ' +\n",
       "            '<a target=\"_blank\" href=https://colab.research.google.com/notebooks/data_table.ipynb>data table notebook</a>'\n",
       "            + ' to learn more about interactive tables.';\n",
       "          element.innerHTML = '';\n",
       "          dataTable['output_type'] = 'display_data';\n",
       "          await google.colab.output.renderOutput(dataTable, element);\n",
       "          const docLink = document.createElement('div');\n",
       "          docLink.innerHTML = docLinkHtml;\n",
       "          element.appendChild(docLink);\n",
       "        }\n",
       "      </script>\n",
       "    </div>\n",
       "  </div>\n",
       "  "
      ],
      "text/plain": [
       "       feature_intelligence1  feature_intelligence2  feature_intelligence3  \\\n",
       "count          501808.000000          501808.000000          501808.000000   \n",
       "mean                0.499981               0.499979               0.499979   \n",
       "std                 0.353596               0.353593               0.353593   \n",
       "min                 0.000000               0.000000               0.000000   \n",
       "25%                 0.250000               0.250000               0.250000   \n",
       "50%                 0.500000               0.500000               0.500000   \n",
       "75%                 0.750000               0.750000               0.750000   \n",
       "max                 1.000000               1.000000               1.000000   \n",
       "\n",
       "       feature_intelligence4  feature_intelligence5  feature_intelligence6  \\\n",
       "count          501808.000000          501808.000000          501808.000000   \n",
       "mean                0.499981               0.499977               0.499977   \n",
       "std                 0.353596               0.353587               0.353587   \n",
       "min                 0.000000               0.000000               0.000000   \n",
       "25%                 0.250000               0.250000               0.250000   \n",
       "50%                 0.500000               0.500000               0.500000   \n",
       "75%                 0.750000               0.750000               0.750000   \n",
       "max                 1.000000               1.000000               1.000000   \n",
       "\n",
       "       feature_intelligence7  feature_intelligence8  feature_intelligence9  \\\n",
       "count          501808.000000          501808.000000          501808.000000   \n",
       "mean                0.499977               0.499981               0.499980   \n",
       "std                 0.353587               0.353596               0.352099   \n",
       "min                 0.000000               0.000000               0.000000   \n",
       "25%                 0.250000               0.250000               0.250000   \n",
       "50%                 0.500000               0.500000               0.500000   \n",
       "75%                 0.750000               0.750000               0.750000   \n",
       "max                 1.000000               1.000000               1.000000   \n",
       "\n",
       "       feature_intelligence10  ...  feature_wisdom38  feature_wisdom39  \\\n",
       "count           501808.000000  ...     501808.000000     501808.000000   \n",
       "mean                 0.499980  ...          0.499982          0.499982   \n",
       "std                  0.352099  ...          0.353139          0.353139   \n",
       "min                  0.000000  ...          0.000000          0.000000   \n",
       "25%                  0.250000  ...          0.250000          0.250000   \n",
       "50%                  0.500000  ...          0.500000          0.500000   \n",
       "75%                  0.750000  ...          0.750000          0.750000   \n",
       "max                  1.000000  ...          1.000000          1.000000   \n",
       "\n",
       "       feature_wisdom40  feature_wisdom41  feature_wisdom42  feature_wisdom43  \\\n",
       "count     501808.000000     501808.000000     501808.000000     501808.000000   \n",
       "mean           0.499974          0.499980          0.499982          0.499980   \n",
       "std            0.351328          0.350662          0.352151          0.352965   \n",
       "min            0.000000          0.000000          0.000000          0.000000   \n",
       "25%            0.250000          0.250000          0.250000          0.250000   \n",
       "50%            0.500000          0.500000          0.500000          0.500000   \n",
       "75%            0.750000          0.750000          0.750000          0.750000   \n",
       "max            1.000000          1.000000          1.000000          1.000000   \n",
       "\n",
       "       feature_wisdom44  feature_wisdom45  feature_wisdom46         target  \n",
       "count     501808.000000     501808.000000     501808.000000  501808.000000  \n",
       "mean           0.499974          0.499979          0.499971       0.499997  \n",
       "std            0.351328          0.347689          0.353419       0.223268  \n",
       "min            0.000000          0.000000          0.000000       0.000000  \n",
       "25%            0.250000          0.250000          0.250000       0.500000  \n",
       "50%            0.500000          0.500000          0.500000       0.500000  \n",
       "75%            0.750000          0.750000          0.750000       0.500000  \n",
       "max            1.000000          1.000000          1.000000       1.000000  \n",
       "\n",
       "[8 rows x 311 columns]"
      ]
     },
     "execution_count": 9,
     "metadata": {},
     "output_type": "execute_result"
    }
   ],
   "source": [
    "data.describe()"
   ]
  },
  {
   "cell_type": "code",
   "execution_count": 10,
   "metadata": {
    "colab": {
     "base_uri": "https://localhost:8080/"
    },
    "id": "-SkPF1U7Upec",
    "outputId": "7b71f3a6-1520-4ccd-8439-cfa679a30b4d"
   },
   "outputs": [
    {
     "data": {
      "text/plain": [
       "id                       0\n",
       "era                      0\n",
       "data_type                0\n",
       "feature_intelligence1    0\n",
       "feature_intelligence2    0\n",
       "                        ..\n",
       "feature_wisdom43         0\n",
       "feature_wisdom44         0\n",
       "feature_wisdom45         0\n",
       "feature_wisdom46         0\n",
       "target                   0\n",
       "Length: 314, dtype: int64"
      ]
     },
     "execution_count": 10,
     "metadata": {},
     "output_type": "execute_result"
    }
   ],
   "source": [
    "# Check for missing data\n",
    "data.isna().sum()"
   ]
  },
  {
   "cell_type": "code",
   "execution_count": 33,
   "metadata": {
    "colab": {
     "base_uri": "https://localhost:8080/"
    },
    "id": "jcmFZbGDfhC1",
    "outputId": "6cf85496-4235-41e7-bdfa-d8054f08bcc8"
   },
   "outputs": [
    {
     "data": {
      "text/plain": [
       "5"
      ]
     },
     "execution_count": 33,
     "metadata": {},
     "output_type": "execute_result"
    }
   ],
   "source": [
    "# Sum of different target present\n",
    "data.target.nunique()"
   ]
  },
  {
   "cell_type": "code",
   "execution_count": 34,
   "metadata": {
    "colab": {
     "base_uri": "https://localhost:8080/"
    },
    "id": "84Ct-DcIfdYa",
    "outputId": "7c15d013-fd85-4643-c296-cf23512d483c"
   },
   "outputs": [
    {
     "data": {
      "text/plain": [
       "array([0.5 , 0.25, 0.75, 0.  , 1.  ])"
      ]
     },
     "execution_count": 34,
     "metadata": {},
     "output_type": "execute_result"
    }
   ],
   "source": [
    "\n",
    "data.target.unique()"
   ]
  },
  {
   "cell_type": "code",
   "execution_count": 43,
   "metadata": {
    "colab": {
     "base_uri": "https://localhost:8080/"
    },
    "id": "Ac7cjJbZhgUd",
    "outputId": "712fe014-e91e-4c4e-c9c7-f04c8c77c332"
   },
   "outputs": [
    {
     "data": {
      "text/plain": [
       "0.50    251677\n",
       "0.25    100053\n",
       "0.75    100045\n",
       "1.00     25017\n",
       "0.00     25016\n",
       "Name: target, dtype: int64"
      ]
     },
     "execution_count": 43,
     "metadata": {},
     "output_type": "execute_result"
    }
   ],
   "source": [
    "# Total amount of observation represented by each target\n",
    "data.target.value_counts()"
   ]
  },
  {
   "cell_type": "code",
   "execution_count": 38,
   "metadata": {
    "colab": {
     "base_uri": "https://localhost:8080/",
     "height": 294
    },
    "id": "wdCrY7OKfx55",
    "outputId": "cac1068f-5e38-418d-90bf-e4a2adbdae0a"
   },
   "outputs": [
    {
     "data": {
      "image/png": "[encoded data removed]",
      "text/plain": [
       "<Figure size 432x288 with 1 Axes>"
      ]
     },
     "metadata": {
      "needs_background": "light"
     },
     "output_type": "display_data"
    }
   ],
   "source": [
    "# Bar chart showing the amount of observation represented by each target\n",
    "data.target.value_counts().plot(kind = 'bar', grid = \"True\")\n",
    "plt.title('Bar chart showing the amount of observation represented by each target')\n",
    "plt.show()"
   ]
  },
  {
   "cell_type": "code",
   "execution_count": 42,
   "metadata": {
    "colab": {
     "base_uri": "https://localhost:8080/"
    },
    "id": "mFLN5d7vgaaG",
    "outputId": "e85c5de4-0dff-4fd8-e9d1-0af4b5147be6"
   },
   "outputs": [
    {
     "data": {
      "text/plain": [
       "0.50    0.501540\n",
       "0.25    0.199385\n",
       "0.75    0.199369\n",
       "1.00    0.049854\n",
       "0.00    0.049852\n",
       "Name: target, dtype: float64"
      ]
     },
     "execution_count": 42,
     "metadata": {},
     "output_type": "execute_result"
    }
   ],
   "source": [
    "# Percentage amount of observation represented by each target\n",
    "data.target.value_counts(normalize = True)\n",
    "\n",
    "# This shows that 50% of the target variable has the value of 0.50, 19% has the value of 0.25,\n",
    "#  19% has the value of 0.75, 4% has the value of 1.00 and 4% has the value of 0.00"
   ]
  },
  {
   "cell_type": "code",
   "execution_count": 29,
   "metadata": {
    "id": "KWqEOOpaP4Ml"
   },
   "outputs": [],
   "source": [
    "\n",
    "# corr = data.corr()\n",
    "\n",
    "# # Generate heatmap using seaborn\n",
    "# sns.heatmap(corr, cmap='coolwarm', annot=True)\n",
    "\n",
    "# # Show plot\n",
    "# plt.show()"
   ]
  },
  {
   "cell_type": "code",
   "execution_count": 11,
   "metadata": {
    "id": "wRU3uT4ZBhkR"
   },
   "outputs": [],
   "source": [
    "# Features and target variable\n",
    "X = data.drop([\"id\", \"era\", \"data_type\"], axis=1)\n",
    "y = data[\"target\"]"
   ]
  },
  {
   "cell_type": "code",
   "execution_count": 42,
   "metadata": {
    "id": "xNv5dnTUBoS2"
   },
   "outputs": [],
   "source": []
  },
  {
   "cell_type": "code",
   "execution_count": 12,
   "metadata": {
    "id": "hE-4QLUXKFJW"
   },
   "outputs": [],
   "source": [
    "x_train, x_test, y_train, y_test = train_test_split(X, y, test_size = 0.3, random_state = 0)"
   ]
  },
  {
   "cell_type": "code",
   "execution_count": 13,
   "metadata": {
    "colab": {
     "base_uri": "https://localhost:8080/"
    },
    "id": "D1Lyt4SgBpHx",
    "outputId": "9f9d132e-1126-41d5-ad8a-730babc6d5e8"
   },
   "outputs": [
    {
     "data": {
      "text/plain": [
       "LinearRegression()"
      ]
     },
     "execution_count": 13,
     "metadata": {},
     "output_type": "execute_result"
    }
   ],
   "source": [
    "lm = LinearRegression()\n",
    "lm.fit(x_train, y_train)"
   ]
  },
  {
   "cell_type": "code",
   "execution_count": 14,
   "metadata": {
    "id": "Rt5k3-ltBpa6"
   },
   "outputs": [],
   "source": [
    "coefficients = lm.coef_"
   ]
  },
  {
   "cell_type": "code",
   "execution_count": 15,
   "metadata": {
    "id": "RpIr4xE0F0ua"
   },
   "outputs": [],
   "source": [
    "# coefficients"
   ]
  },
  {
   "cell_type": "code",
   "execution_count": 16,
   "metadata": {
    "id": "F-TrrhQWFdl5"
   },
   "outputs": [],
   "source": [
    "# Sorting the feature coefficients in descending order\n",
    "indices = np.argsort(abs(coefficients))[::-1]"
   ]
  },
  {
   "cell_type": "code",
   "execution_count": 16,
   "metadata": {
    "colab": {
     "base_uri": "https://localhost:8080/"
    },
    "id": "hh-wkbD5Fpt-",
    "outputId": "f875ce75-b5e4-480b-9468-e3f645c8c966"
   },
   "outputs": [
    {
     "data": {
      "text/plain": [
       "array([310,  74,  72,  96, 151,  81,  17, 141, 148, 160,   1, 150,   9,\n",
       "         6, 113, 296, 128,  66,  42, 200,  54,  52, 144, 164,  80, 122,\n",
       "       268, 218, 194,  64, 158, 146, 192, 224, 201,  23, 115, 147,  51,\n",
       "       275, 229, 182,  85, 140,   5, 149, 209, 214, 138, 291,  60,   7,\n",
       "        45, 265, 307, 183, 177,  65, 134,  53, 225, 180, 272, 210,  84,\n",
       "        91,  29, 254, 281, 277,   8,  47, 136, 191, 257, 166,  55, 222,\n",
       "        49, 261, 215, 298,  77,  48, 248,  98,  36, 293, 241, 211, 299,\n",
       "       262, 286, 195, 267, 230, 198, 287, 253, 278, 133, 114,  68, 100,\n",
       "       250, 308, 153, 167, 232,   2,  86, 112, 173,  70,  92, 190,  10,\n",
       "        73, 130, 227, 226, 238, 181,  22,  30,  90, 219, 274, 212,  33,\n",
       "       305, 300,  58,  38, 255,  31, 142, 143, 217,  62, 242, 116, 234,\n",
       "       302,  87, 121, 236, 123, 132, 108, 104,  15, 246, 127,  63,  24,\n",
       "       107, 289, 131,  14,  78, 309,  25,  41, 163, 188,  11, 103,  99,\n",
       "       174, 126, 110,  18, 247, 172, 206, 186, 270, 169,  20, 282,  94,\n",
       "        69,  16, 280, 288,  46, 271, 244, 106,  34,  61, 185, 266, 157,\n",
       "       129, 237, 285, 294, 301, 119,  79, 303, 269, 156,  39, 179,  57,\n",
       "       196, 155,  28, 243, 240, 205, 124,  59, 260,  27, 304, 161, 175,\n",
       "        97, 171, 170,  76, 276,  40, 256,  12, 105, 184, 221, 101, 297,\n",
       "       233,  50, 102,  21, 197,  19,  43, 208, 251,  95,  82, 125, 176,\n",
       "       168, 120,   4, 264, 109, 295, 189, 290, 228, 279, 199,  83,  35,\n",
       "        37,  71, 235,  88, 263, 145, 204, 259, 162, 223, 165, 216,   0,\n",
       "        13, 111, 154, 178, 273, 252, 220, 249, 187,  56, 258, 137, 292,\n",
       "        75,  89, 139, 203, 283, 306,  32, 118,  67, 207, 284, 159, 117,\n",
       "        26, 239, 231, 245,  93, 202,   3, 135, 152, 213, 193,  44])"
      ]
     },
     "execution_count": 16,
     "metadata": {},
     "output_type": "execute_result"
    }
   ],
   "source": [
    "indices"
   ]
  },
  {
   "cell_type": "code",
   "execution_count": 17,
   "metadata": {
    "id": "DkgK8qUhBplE"
   },
   "outputs": [],
   "source": [
    "# coefficients"
   ]
  },
  {
   "cell_type": "code",
   "execution_count": 17,
   "metadata": {
    "colab": {
     "base_uri": "https://localhost:8080/"
    },
    "id": "ASVs58AqGJiS",
    "outputId": "553c0446-6f55-4a02-93bf-dcbf89f5e42c"
   },
   "outputs": [
    {
     "name": "stdout",
     "output_type": "stream",
     "text": [
      "Feature ranking:\n",
      "1. feature 310 (1.000000)\n",
      "2. feature 74 (-0.000000)\n",
      "3. feature 72 (-0.000000)\n",
      "4. feature 96 (-0.000000)\n",
      "5. feature 151 (-0.000000)\n",
      "6. feature 81 (0.000000)\n",
      "7. feature 17 (0.000000)\n",
      "8. feature 141 (-0.000000)\n",
      "9. feature 148 (-0.000000)\n",
      "10. feature 160 (-0.000000)\n",
      "11. feature 1 (0.000000)\n",
      "12. feature 150 (-0.000000)\n",
      "13. feature 9 (-0.000000)\n",
      "14. feature 6 (0.000000)\n",
      "15. feature 113 (-0.000000)\n",
      "16. feature 296 (-0.000000)\n",
      "17. feature 128 (-0.000000)\n",
      "18. feature 66 (-0.000000)\n",
      "19. feature 42 (0.000000)\n",
      "20. feature 200 (-0.000000)\n",
      "21. feature 54 (0.000000)\n",
      "22. feature 52 (0.000000)\n",
      "23. feature 144 (0.000000)\n",
      "24. feature 164 (-0.000000)\n",
      "25. feature 80 (-0.000000)\n",
      "26. feature 122 (0.000000)\n",
      "27. feature 268 (0.000000)\n",
      "28. feature 218 (-0.000000)\n",
      "29. feature 194 (-0.000000)\n",
      "30. feature 64 (-0.000000)\n",
      "31. feature 158 (0.000000)\n",
      "32. feature 146 (0.000000)\n",
      "33. feature 192 (0.000000)\n",
      "34. feature 224 (-0.000000)\n",
      "35. feature 201 (0.000000)\n",
      "36. feature 23 (-0.000000)\n",
      "37. feature 115 (-0.000000)\n",
      "38. feature 147 (0.000000)\n",
      "39. feature 51 (-0.000000)\n",
      "40. feature 275 (0.000000)\n",
      "41. feature 229 (0.000000)\n",
      "42. feature 182 (-0.000000)\n",
      "43. feature 85 (0.000000)\n",
      "44. feature 140 (-0.000000)\n",
      "45. feature 5 (-0.000000)\n",
      "46. feature 149 (-0.000000)\n",
      "47. feature 209 (0.000000)\n",
      "48. feature 214 (0.000000)\n",
      "49. feature 138 (0.000000)\n",
      "50. feature 291 (-0.000000)\n",
      "51. feature 60 (-0.000000)\n",
      "52. feature 7 (-0.000000)\n",
      "53. feature 45 (-0.000000)\n",
      "54. feature 265 (-0.000000)\n",
      "55. feature 307 (-0.000000)\n",
      "56. feature 183 (-0.000000)\n",
      "57. feature 177 (0.000000)\n",
      "58. feature 65 (0.000000)\n",
      "59. feature 134 (0.000000)\n",
      "60. feature 53 (0.000000)\n",
      "61. feature 225 (-0.000000)\n",
      "62. feature 180 (-0.000000)\n",
      "63. feature 272 (0.000000)\n",
      "64. feature 210 (0.000000)\n",
      "65. feature 84 (0.000000)\n",
      "66. feature 91 (0.000000)\n",
      "67. feature 29 (0.000000)\n",
      "68. feature 254 (0.000000)\n",
      "69. feature 281 (0.000000)\n",
      "70. feature 277 (0.000000)\n",
      "71. feature 8 (0.000000)\n",
      "72. feature 47 (0.000000)\n",
      "73. feature 136 (0.000000)\n",
      "74. feature 191 (-0.000000)\n",
      "75. feature 257 (-0.000000)\n",
      "76. feature 166 (0.000000)\n",
      "77. feature 55 (-0.000000)\n",
      "78. feature 222 (-0.000000)\n",
      "79. feature 49 (0.000000)\n",
      "80. feature 261 (-0.000000)\n",
      "81. feature 215 (0.000000)\n",
      "82. feature 298 (-0.000000)\n",
      "83. feature 77 (-0.000000)\n",
      "84. feature 48 (0.000000)\n",
      "85. feature 248 (0.000000)\n",
      "86. feature 98 (-0.000000)\n",
      "87. feature 36 (-0.000000)\n",
      "88. feature 293 (-0.000000)\n",
      "89. feature 241 (0.000000)\n",
      "90. feature 211 (-0.000000)\n",
      "91. feature 299 (-0.000000)\n",
      "92. feature 262 (0.000000)\n",
      "93. feature 286 (-0.000000)\n",
      "94. feature 195 (0.000000)\n",
      "95. feature 267 (0.000000)\n",
      "96. feature 230 (-0.000000)\n",
      "97. feature 198 (0.000000)\n",
      "98. feature 287 (-0.000000)\n",
      "99. feature 253 (0.000000)\n",
      "100. feature 278 (0.000000)\n",
      "101. feature 133 (0.000000)\n",
      "102. feature 114 (0.000000)\n",
      "103. feature 68 (0.000000)\n",
      "104. feature 100 (-0.000000)\n",
      "105. feature 250 (0.000000)\n",
      "106. feature 308 (-0.000000)\n",
      "107. feature 153 (0.000000)\n",
      "108. feature 167 (0.000000)\n",
      "109. feature 232 (-0.000000)\n",
      "110. feature 2 (-0.000000)\n",
      "111. feature 86 (-0.000000)\n",
      "112. feature 112 (-0.000000)\n",
      "113. feature 173 (0.000000)\n",
      "114. feature 70 (-0.000000)\n",
      "115. feature 92 (0.000000)\n",
      "116. feature 190 (0.000000)\n",
      "117. feature 10 (0.000000)\n",
      "118. feature 73 (-0.000000)\n",
      "119. feature 130 (0.000000)\n",
      "120. feature 227 (0.000000)\n",
      "121. feature 226 (0.000000)\n",
      "122. feature 238 (0.000000)\n",
      "123. feature 181 (-0.000000)\n",
      "124. feature 22 (-0.000000)\n",
      "125. feature 30 (-0.000000)\n",
      "126. feature 90 (-0.000000)\n",
      "127. feature 219 (0.000000)\n",
      "128. feature 274 (-0.000000)\n",
      "129. feature 212 (0.000000)\n",
      "130. feature 33 (-0.000000)\n",
      "131. feature 305 (-0.000000)\n",
      "132. feature 300 (0.000000)\n",
      "133. feature 58 (0.000000)\n",
      "134. feature 38 (-0.000000)\n",
      "135. feature 255 (-0.000000)\n",
      "136. feature 31 (-0.000000)\n",
      "137. feature 142 (0.000000)\n",
      "138. feature 143 (0.000000)\n",
      "139. feature 217 (0.000000)\n",
      "140. feature 62 (-0.000000)\n",
      "141. feature 242 (-0.000000)\n",
      "142. feature 116 (0.000000)\n",
      "143. feature 234 (0.000000)\n",
      "144. feature 302 (0.000000)\n",
      "145. feature 87 (-0.000000)\n",
      "146. feature 121 (0.000000)\n",
      "147. feature 236 (-0.000000)\n",
      "148. feature 123 (-0.000000)\n",
      "149. feature 132 (-0.000000)\n",
      "150. feature 108 (0.000000)\n",
      "151. feature 104 (0.000000)\n",
      "152. feature 15 (0.000000)\n",
      "153. feature 246 (-0.000000)\n",
      "154. feature 127 (0.000000)\n",
      "155. feature 63 (0.000000)\n",
      "156. feature 24 (-0.000000)\n",
      "157. feature 107 (0.000000)\n",
      "158. feature 289 (0.000000)\n",
      "159. feature 131 (-0.000000)\n",
      "160. feature 14 (-0.000000)\n",
      "161. feature 78 (-0.000000)\n",
      "162. feature 309 (0.000000)\n",
      "163. feature 25 (0.000000)\n",
      "164. feature 41 (-0.000000)\n",
      "165. feature 163 (-0.000000)\n",
      "166. feature 188 (0.000000)\n",
      "167. feature 11 (-0.000000)\n",
      "168. feature 103 (-0.000000)\n",
      "169. feature 99 (-0.000000)\n",
      "170. feature 174 (0.000000)\n",
      "171. feature 126 (-0.000000)\n",
      "172. feature 110 (0.000000)\n",
      "173. feature 18 (0.000000)\n",
      "174. feature 247 (-0.000000)\n",
      "175. feature 172 (0.000000)\n",
      "176. feature 206 (0.000000)\n",
      "177. feature 186 (0.000000)\n",
      "178. feature 270 (0.000000)\n",
      "179. feature 169 (0.000000)\n",
      "180. feature 20 (-0.000000)\n",
      "181. feature 282 (0.000000)\n",
      "182. feature 94 (-0.000000)\n",
      "183. feature 69 (0.000000)\n",
      "184. feature 16 (0.000000)\n",
      "185. feature 280 (-0.000000)\n",
      "186. feature 288 (0.000000)\n",
      "187. feature 46 (-0.000000)\n",
      "188. feature 271 (-0.000000)\n",
      "189. feature 244 (-0.000000)\n",
      "190. feature 106 (0.000000)\n",
      "191. feature 34 (0.000000)\n",
      "192. feature 61 (0.000000)\n",
      "193. feature 185 (0.000000)\n",
      "194. feature 266 (-0.000000)\n",
      "195. feature 157 (-0.000000)\n",
      "196. feature 129 (-0.000000)\n",
      "197. feature 237 (-0.000000)\n",
      "198. feature 285 (0.000000)\n",
      "199. feature 294 (0.000000)\n",
      "200. feature 301 (0.000000)\n",
      "201. feature 119 (-0.000000)\n",
      "202. feature 79 (0.000000)\n",
      "203. feature 303 (-0.000000)\n",
      "204. feature 269 (0.000000)\n",
      "205. feature 156 (0.000000)\n",
      "206. feature 39 (0.000000)\n",
      "207. feature 179 (0.000000)\n",
      "208. feature 57 (0.000000)\n",
      "209. feature 196 (0.000000)\n",
      "210. feature 155 (0.000000)\n",
      "211. feature 28 (0.000000)\n",
      "212. feature 243 (0.000000)\n",
      "213. feature 240 (-0.000000)\n",
      "214. feature 205 (0.000000)\n",
      "215. feature 124 (0.000000)\n",
      "216. feature 59 (0.000000)\n",
      "217. feature 260 (0.000000)\n",
      "218. feature 27 (0.000000)\n",
      "219. feature 304 (0.000000)\n",
      "220. feature 161 (-0.000000)\n",
      "221. feature 175 (-0.000000)\n",
      "222. feature 97 (0.000000)\n",
      "223. feature 171 (-0.000000)\n",
      "224. feature 170 (-0.000000)\n",
      "225. feature 76 (0.000000)\n",
      "226. feature 276 (0.000000)\n",
      "227. feature 40 (0.000000)\n",
      "228. feature 256 (-0.000000)\n",
      "229. feature 12 (-0.000000)\n",
      "230. feature 105 (0.000000)\n",
      "231. feature 184 (0.000000)\n",
      "232. feature 221 (0.000000)\n",
      "233. feature 101 (0.000000)\n",
      "234. feature 297 (-0.000000)\n",
      "235. feature 233 (0.000000)\n",
      "236. feature 50 (-0.000000)\n",
      "237. feature 102 (0.000000)\n",
      "238. feature 21 (-0.000000)\n",
      "239. feature 197 (0.000000)\n",
      "240. feature 19 (-0.000000)\n",
      "241. feature 43 (-0.000000)\n",
      "242. feature 208 (0.000000)\n",
      "243. feature 251 (0.000000)\n",
      "244. feature 95 (0.000000)\n",
      "245. feature 82 (0.000000)\n",
      "246. feature 125 (0.000000)\n",
      "247. feature 176 (0.000000)\n",
      "248. feature 168 (-0.000000)\n",
      "249. feature 120 (-0.000000)\n",
      "250. feature 4 (0.000000)\n",
      "251. feature 264 (0.000000)\n",
      "252. feature 109 (0.000000)\n",
      "253. feature 295 (0.000000)\n",
      "254. feature 189 (0.000000)\n",
      "255. feature 290 (-0.000000)\n",
      "256. feature 228 (-0.000000)\n",
      "257. feature 279 (0.000000)\n",
      "258. feature 199 (-0.000000)\n",
      "259. feature 83 (-0.000000)\n",
      "260. feature 35 (-0.000000)\n",
      "261. feature 37 (-0.000000)\n",
      "262. feature 71 (-0.000000)\n",
      "263. feature 235 (-0.000000)\n",
      "264. feature 88 (-0.000000)\n",
      "265. feature 263 (0.000000)\n",
      "266. feature 145 (-0.000000)\n",
      "267. feature 204 (-0.000000)\n",
      "268. feature 259 (-0.000000)\n",
      "269. feature 162 (-0.000000)\n",
      "270. feature 223 (0.000000)\n",
      "271. feature 165 (-0.000000)\n",
      "272. feature 216 (-0.000000)\n",
      "273. feature 0 (-0.000000)\n",
      "274. feature 13 (-0.000000)\n",
      "275. feature 111 (0.000000)\n",
      "276. feature 154 (-0.000000)\n",
      "277. feature 178 (0.000000)\n",
      "278. feature 273 (-0.000000)\n",
      "279. feature 252 (0.000000)\n",
      "280. feature 220 (-0.000000)\n",
      "281. feature 249 (0.000000)\n",
      "282. feature 187 (0.000000)\n",
      "283. feature 56 (0.000000)\n",
      "284. feature 258 (-0.000000)\n",
      "285. feature 137 (0.000000)\n",
      "286. feature 292 (-0.000000)\n",
      "287. feature 75 (0.000000)\n",
      "288. feature 89 (0.000000)\n",
      "289. feature 139 (0.000000)\n",
      "290. feature 203 (0.000000)\n",
      "291. feature 283 (0.000000)\n",
      "292. feature 306 (-0.000000)\n",
      "293. feature 32 (-0.000000)\n",
      "294. feature 118 (0.000000)\n",
      "295. feature 67 (-0.000000)\n",
      "296. feature 207 (0.000000)\n",
      "297. feature 284 (0.000000)\n",
      "298. feature 159 (-0.000000)\n",
      "299. feature 117 (0.000000)\n",
      "300. feature 26 (-0.000000)\n",
      "301. feature 239 (-0.000000)\n",
      "302. feature 231 (0.000000)\n",
      "303. feature 245 (0.000000)\n",
      "304. feature 93 (-0.000000)\n",
      "305. feature 202 (0.000000)\n",
      "306. feature 3 (0.000000)\n",
      "307. feature 135 (-0.000000)\n",
      "308. feature 152 (-0.000000)\n",
      "309. feature 213 (-0.000000)\n",
      "310. feature 193 (0.000000)\n",
      "311. feature 44 (0.000000)\n"
     ]
    }
   ],
   "source": [
    "print(\"Feature ranking:\")\n",
    "for f in range(X.shape[1]):\n",
    "    print(\"%d. feature %d (%f)\" % (f + 1, indices[f], coefficients[indices[f]]))"
   ]
  },
  {
   "cell_type": "code",
   "execution_count": 18,
   "metadata": {
    "colab": {
     "base_uri": "https://localhost:8080/"
    },
    "id": "ey4ogsvYGcjI",
    "outputId": "c092c355-c640-40a5-ad61-66e337461594"
   },
   "outputs": [
    {
     "data": {
      "text/plain": [
       "1.0"
      ]
     },
     "execution_count": 18,
     "metadata": {},
     "output_type": "execute_result"
    }
   ],
   "source": [
    "lm.score(x_train, y_train)"
   ]
  },
  {
   "cell_type": "code",
   "execution_count": 19,
   "metadata": {
    "colab": {
     "base_uri": "https://localhost:8080/"
    },
    "id": "wTKTqhLXGcO4",
    "outputId": "00e7d369-2f9c-4cec-a09b-4365d39f4079"
   },
   "outputs": [
    {
     "data": {
      "text/plain": [
       "1.0"
      ]
     },
     "execution_count": 19,
     "metadata": {},
     "output_type": "execute_result"
    }
   ],
   "source": [
    "lm.score(x_test, y_test)"
   ]
  },
  {
   "cell_type": "code",
   "execution_count": 20,
   "metadata": {
    "id": "EKbmCt1SMpp_"
   },
   "outputs": [],
   "source": [
    "y_pred = lm.predict(x_test)"
   ]
  },
  {
   "cell_type": "code",
   "execution_count": 21,
   "metadata": {
    "colab": {
     "base_uri": "https://localhost:8080/"
    },
    "id": "WirIXI30Lho-",
    "outputId": "a67d24f3-69a9-4968-c19d-c78db59e7a14"
   },
   "outputs": [
    {
     "name": "stdout",
     "output_type": "stream",
     "text": [
      "Mean Squared Error: 2.3059312480716956e-31\n"
     ]
    }
   ],
   "source": [
    "# Mean squared error\n",
    "mse = mean_squared_error(y_test, y_pred)\n",
    "print(\"Mean Squared Error:\", mse)"
   ]
  },
  {
   "cell_type": "code",
   "execution_count": 22,
   "metadata": {
    "colab": {
     "base_uri": "https://localhost:8080/"
    },
    "id": "eZ3TFXMWNAaF",
    "outputId": "855f2ee4-e7bc-4726-801b-0526cd47dbef"
   },
   "outputs": [
    {
     "name": "stdout",
     "output_type": "stream",
     "text": [
      "Root Mean Squared Error: 4.802011295354995e-16\n"
     ]
    }
   ],
   "source": [
    "# Root mean squared error\n",
    "rmse = mean_squared_error(y_test, y_pred, squared=False)\n",
    "print(\"Root Mean Squared Error:\", rmse)"
   ]
  },
  {
   "cell_type": "code",
   "execution_count": 23,
   "metadata": {
    "colab": {
     "base_uri": "https://localhost:8080/"
    },
    "id": "HGFWf_zBM_1e",
    "outputId": "602b1883-45c7-4b39-d7e2-3e7ea87158ad"
   },
   "outputs": [
    {
     "name": "stdout",
     "output_type": "stream",
     "text": [
      "Mean Absolute Error: 3.745034338627935e-16\n"
     ]
    }
   ],
   "source": [
    "# Mean absolute error\n",
    "mae = mean_absolute_error(y_test, y_pred)\n",
    "print(\"Mean Absolute Error:\", mae)"
   ]
  },
  {
   "cell_type": "code",
   "execution_count": 31,
   "metadata": {
    "colab": {
     "base_uri": "https://localhost:8080/",
     "height": 206
    },
    "id": "w2I-mHg9Bppa",
    "outputId": "b93d7a89-665b-43ec-a003-93ac3b67b149"
   },
   "outputs": [
    {
     "data": {
      "text/html": [
       "\n",
       "  <div id=\"df-a220510b-a850-45ba-9795-fe711c1627e0\">\n",
       "    <div class=\"colab-df-container\">\n",
       "      <div>\n",
       "<style scoped>\n",
       "    .dataframe tbody tr th:only-of-type {\n",
       "        vertical-align: middle;\n",
       "    }\n",
       "\n",
       "    .dataframe tbody tr th {\n",
       "        vertical-align: top;\n",
       "    }\n",
       "\n",
       "    .dataframe thead th {\n",
       "        text-align: right;\n",
       "    }\n",
       "</style>\n",
       "<table border=\"1\" class=\"dataframe\">\n",
       "  <thead>\n",
       "    <tr style=\"text-align: right;\">\n",
       "      <th></th>\n",
       "      <th>target</th>\n",
       "      <th>prediction</th>\n",
       "    </tr>\n",
       "  </thead>\n",
       "  <tbody>\n",
       "    <tr>\n",
       "      <th>364999</th>\n",
       "      <td>0.25</td>\n",
       "      <td>0.25</td>\n",
       "    </tr>\n",
       "    <tr>\n",
       "      <th>127940</th>\n",
       "      <td>0.25</td>\n",
       "      <td>0.25</td>\n",
       "    </tr>\n",
       "    <tr>\n",
       "      <th>126744</th>\n",
       "      <td>0.75</td>\n",
       "      <td>0.75</td>\n",
       "    </tr>\n",
       "    <tr>\n",
       "      <th>365381</th>\n",
       "      <td>0.25</td>\n",
       "      <td>0.25</td>\n",
       "    </tr>\n",
       "    <tr>\n",
       "      <th>300729</th>\n",
       "      <td>0.75</td>\n",
       "      <td>0.75</td>\n",
       "    </tr>\n",
       "  </tbody>\n",
       "</table>\n",
       "</div>\n",
       "      <button class=\"colab-df-convert\" onclick=\"convertToInteractive('df-a220510b-a850-45ba-9795-fe711c1627e0')\"\n",
       "              title=\"Convert this dataframe to an interactive table.\"\n",
       "              style=\"display:none;\">\n",
       "        \n",
       "  <svg xmlns=\"http://www.w3.org/2000/svg\" height=\"24px\"viewBox=\"0 0 24 24\"\n",
       "       width=\"24px\">\n",
       "    <path d=\"M0 0h24v24H0V0z\" fill=\"none\"/>\n",
       "    <path d=\"M18.56 5.44l.94 2.06.94-2.06 2.06-.94-2.06-.94-.94-2.06-.94 2.06-2.06.94zm-11 1L8.5 8.5l.94-2.06 2.06-.94-2.06-.94L8.5 2.5l-.94 2.06-2.06.94zm10 10l.94 2.06.94-2.06 2.06-.94-2.06-.94-.94-2.06-.94 2.06-2.06.94z\"/><path d=\"M17.41 7.96l-1.37-1.37c-.4-.4-.92-.59-1.43-.59-.52 0-1.04.2-1.43.59L10.3 9.45l-7.72 7.72c-.78.78-.78 2.05 0 2.83L4 21.41c.39.39.9.59 1.41.59.51 0 1.02-.2 1.41-.59l7.78-7.78 2.81-2.81c.8-.78.8-2.07 0-2.86zM5.41 20L4 18.59l7.72-7.72 1.47 1.35L5.41 20z\"/>\n",
       "  </svg>\n",
       "      </button>\n",
       "      \n",
       "  <style>\n",
       "    .colab-df-container {\n",
       "      display:flex;\n",
       "      flex-wrap:wrap;\n",
       "      gap: 12px;\n",
       "    }\n",
       "\n",
       "    .colab-df-convert {\n",
       "      background-color: #E8F0FE;\n",
       "      border: none;\n",
       "      border-radius: 50%;\n",
       "      cursor: pointer;\n",
       "      display: none;\n",
       "      fill: #1967D2;\n",
       "      height: 32px;\n",
       "      padding: 0 0 0 0;\n",
       "      width: 32px;\n",
       "    }\n",
       "\n",
       "    .colab-df-convert:hover {\n",
       "      background-color: #E2EBFA;\n",
       "      box-shadow: 0px 1px 2px rgba(60, 64, 67, 0.3), 0px 1px 3px 1px rgba(60, 64, 67, 0.15);\n",
       "      fill: #174EA6;\n",
       "    }\n",
       "\n",
       "    [theme=dark] .colab-df-convert {\n",
       "      background-color: #3B4455;\n",
       "      fill: #D2E3FC;\n",
       "    }\n",
       "\n",
       "    [theme=dark] .colab-df-convert:hover {\n",
       "      background-color: #434B5C;\n",
       "      box-shadow: 0px 1px 3px 1px rgba(0, 0, 0, 0.15);\n",
       "      filter: drop-shadow(0px 1px 2px rgba(0, 0, 0, 0.3));\n",
       "      fill: #FFFFFF;\n",
       "    }\n",
       "  </style>\n",
       "\n",
       "      <script>\n",
       "        const buttonEl =\n",
       "          document.querySelector('#df-a220510b-a850-45ba-9795-fe711c1627e0 button.colab-df-convert');\n",
       "        buttonEl.style.display =\n",
       "          google.colab.kernel.accessAllowed ? 'block' : 'none';\n",
       "\n",
       "        async function convertToInteractive(key) {\n",
       "          const element = document.querySelector('#df-a220510b-a850-45ba-9795-fe711c1627e0');\n",
       "          const dataTable =\n",
       "            await google.colab.kernel.invokeFunction('convertToInteractive',\n",
       "                                                     [key], {});\n",
       "          if (!dataTable) return;\n",
       "\n",
       "          const docLinkHtml = 'Like what you see? Visit the ' +\n",
       "            '<a target=\"_blank\" href=https://colab.research.google.com/notebooks/data_table.ipynb>data table notebook</a>'\n",
       "            + ' to learn more about interactive tables.';\n",
       "          element.innerHTML = '';\n",
       "          dataTable['output_type'] = 'display_data';\n",
       "          await google.colab.output.renderOutput(dataTable, element);\n",
       "          const docLink = document.createElement('div');\n",
       "          docLink.innerHTML = docLinkHtml;\n",
       "          element.appendChild(docLink);\n",
       "        }\n",
       "      </script>\n",
       "    </div>\n",
       "  </div>\n",
       "  "
      ],
      "text/plain": [
       "        target  prediction\n",
       "364999    0.25        0.25\n",
       "127940    0.25        0.25\n",
       "126744    0.75        0.75\n",
       "365381    0.25        0.25\n",
       "300729    0.75        0.75"
      ]
     },
     "execution_count": 31,
     "metadata": {},
     "output_type": "execute_result"
    }
   ],
   "source": [
    "# Comparing the actual outcome and the predicted outcome\n",
    "predictions_df = x_test['target'].to_frame()\n",
    "predictions_df[\"prediction\"] = y_pred\n",
    "predictions_df.head()"
   ]
  }
 ],
 "metadata": {
  "colab": {
   "provenance": []
  },
  "kernelspec": {
   "display_name": "Python 3 (ipykernel)",
   "language": "python",
   "name": "python3"
  },
  "language_info": {
   "codemirror_mode": {
    "name": "ipython",
    "version": 3
   },
   "file_extension": ".py",
   "mimetype": "text/x-python",
   "name": "python",
   "nbconvert_exporter": "python",
   "pygments_lexer": "ipython3",
   "version": "3.8.11"
  }
 },
 "nbformat": 4,
 "nbformat_minor": 1
}
